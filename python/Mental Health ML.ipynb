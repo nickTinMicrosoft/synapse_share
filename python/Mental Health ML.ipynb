{
  "nbformat": 4,
  "nbformat_minor": 2,
  "metadata": {
    "kernelspec": {
      "name": "synapse_pyspark",
      "display_name": "Synapse PySpark"
    },
    "language_info": {
      "name": "python"
    },
    "save_output": true,
    "synapse_widget": {
      "version": "0.1",
      "state": {}
    }
  },
  "cells": [
    {
      "cell_type": "code",
      "execution_count": 1,
      "outputs": [],
      "metadata": {
        "microsoft": {
          "language": "python"
        }
      },
      "source": [
        "%%pyspark\n",
        "\n",
        "df = spark.sql(\"SELECT * FROM `health_db`.`mentalsurvey`\")\n",
        "df.show(10)"
      ]
    },
    {
      "cell_type": "markdown",
      "metadata": {
        "nteract": {
          "transient": {
            "deleting": false
          }
        }
      },
      "source": [
        "# Code Below is from Kaggle Tutorial \r\n",
        "## \"ML for Mental Health\"\r\n",
        "## URL: https://www.kaggle.com/code/kairosart/machine-learning-for-mental-health-1/notebook\r\n",
        ""
      ]
    },
    {
      "cell_type": "code",
      "execution_count": 2,
      "outputs": [],
      "metadata": {
        "jupyter": {
          "source_hidden": false,
          "outputs_hidden": false
        },
        "nteract": {
          "transient": {
            "deleting": false
          }
        }
      },
      "source": [
        "!pip install mlxtend"
      ]
    },
    {
      "cell_type": "code",
      "execution_count": 3,
      "outputs": [],
      "metadata": {
        "jupyter": {
          "source_hidden": false,
          "outputs_hidden": false
        },
        "nteract": {
          "transient": {
            "deleting": false
          }
        }
      },
      "source": [
        "import numpy as np # linear algebra\r\n",
        "import pandas as pd # data processing, CSV file I/O (e.g. pd.read_csv)\r\n",
        "import matplotlib.pyplot as plt\r\n",
        "import seaborn as sns\r\n",
        "\r\n",
        "from scipy import stats\r\n",
        "from scipy.stats import randint\r\n",
        "\r\n",
        "# prep\r\n",
        "from sklearn.model_selection import train_test_split\r\n",
        "from sklearn import preprocessing\r\n",
        "from sklearn.datasets import make_classification\r\n",
        "from sklearn.preprocessing import binarize, LabelEncoder, MinMaxScaler\r\n",
        "\r\n",
        "# models\r\n",
        "from sklearn.linear_model import LogisticRegression\r\n",
        "from sklearn.tree import DecisionTreeClassifier\r\n",
        "from sklearn.ensemble import RandomForestClassifier, ExtraTreesClassifier\r\n",
        "\r\n",
        "# Validation libraries\r\n",
        "from sklearn import metrics\r\n",
        "from sklearn.metrics import accuracy_score, mean_squared_error, precision_recall_curve\r\n",
        "from sklearn.model_selection import cross_val_score\r\n",
        "\r\n",
        "#Neural Network\r\n",
        "from sklearn.neural_network import MLPClassifier\r\n",
        "# from sklearn.grid_search import RandomizedSearchCV\r\n",
        "\r\n",
        "#Bagging\r\n",
        "from sklearn.ensemble import BaggingClassifier, AdaBoostClassifier\r\n",
        "from sklearn.neighbors import KNeighborsClassifier\r\n",
        "\r\n",
        "#Naive bayes\r\n",
        "from sklearn.naive_bayes import GaussianNB \r\n",
        "\r\n",
        "#Stacking\r\n",
        "from mlxtend.classifier import StackingClassifier"
      ]
    },
    {
      "cell_type": "code",
      "execution_count": 4,
      "outputs": [],
      "metadata": {
        "jupyter": {
          "source_hidden": false,
          "outputs_hidden": false
        },
        "nteract": {
          "transient": {
            "deleting": false
          }
        }
      },
      "source": [
        "##convert df from pyspark data frame to pandas data frame\r\n",
        "train_df = df.toPandas()\r\n",
        "\r\n",
        "print(train_df.describe())\r\n",
        "print(train_df.info())"
      ]
    },
    {
      "cell_type": "code",
      "execution_count": 5,
      "outputs": [],
      "metadata": {
        "jupyter": {
          "source_hidden": false,
          "outputs_hidden": false
        },
        "nteract": {
          "transient": {
            "deleting": false
          }
        }
      },
      "source": [
        "#dealing with missing data\r\n",
        "#Let’s get rid of the variables \"Timestamp\",“comments”, “state” just to make our lives easier.\r\n",
        "train_df = train_df.drop(['comments'], axis= 1)\r\n",
        "train_df = train_df.drop(['state'], axis= 1)\r\n",
        "train_df = train_df.drop(['Timestamp'], axis= 1)\r\n",
        "\r\n",
        "train_df.isnull().sum().max() #just checking that there's no missing data missing...\r\n",
        "train_df.head(5)"
      ]
    },
    {
      "cell_type": "code",
      "execution_count": 6,
      "outputs": [],
      "metadata": {
        "jupyter": {
          "source_hidden": false,
          "outputs_hidden": false
        },
        "nteract": {
          "transient": {
            "deleting": false
          }
        }
      },
      "source": [
        "# Assign default values for each data type\r\n",
        "defaultInt = 0\r\n",
        "defaultString = 'NaN'\r\n",
        "defaultFloat = 0.0\r\n",
        "\r\n",
        "# Create lists by data tpe\r\n",
        "intFeatures = ['Age']\r\n",
        "stringFeatures = ['Gender', 'Country', 'self_employed', 'family_history', 'treatment', 'work_interfere',\r\n",
        "                 'no_employees', 'remote_work', 'tech_company', 'anonymity', 'leave', 'mental_health_consequence',\r\n",
        "                 'phys_health_consequence', 'coworkers', 'supervisor', 'mental_health_interview', 'phys_health_interview',\r\n",
        "                 'mental_vs_physical', 'obs_consequence', 'benefits', 'care_options', 'wellness_program',\r\n",
        "                 'seek_help']\r\n",
        "floatFeatures = []\r\n",
        "\r\n",
        "# Clean the NaN's\r\n",
        "for feature in train_df:\r\n",
        "    if feature in intFeatures:\r\n",
        "        train_df[feature] = train_df[feature].fillna(defaultInt)\r\n",
        "    elif feature in stringFeatures:\r\n",
        "        train_df[feature] = train_df[feature].fillna(defaultString)\r\n",
        "    elif feature in floatFeatures:\r\n",
        "        train_df[feature] = train_df[feature].fillna(defaultFloat)\r\n",
        "    else:\r\n",
        "        print('Error: Feature %s not recognized.' % feature)\r\n",
        "train_df.head(5)   "
      ]
    },
    {
      "cell_type": "code",
      "execution_count": 7,
      "outputs": [],
      "metadata": {
        "jupyter": {
          "source_hidden": false,
          "outputs_hidden": false
        },
        "nteract": {
          "transient": {
            "deleting": false
          }
        }
      },
      "source": [
        "#clean 'Gender'\r\n",
        "#Slower case all columm's elements\r\n",
        "gender = train_df['Gender'].str.lower()\r\n",
        "#print(gender)\r\n",
        "\r\n",
        "#Select unique elements\r\n",
        "gender = train_df['Gender'].unique()\r\n",
        "\r\n",
        "#Made gender groups\r\n",
        "male_str = [\"male\", \"m\", \"male-ish\", \"maile\", \"mal\", \"male (cis)\", \"make\", \"male \", \"man\",\"msle\", \"mail\", \"malr\",\"cis man\", \"Cis Male\", \"cis male\"]\r\n",
        "trans_str = [\"trans-female\", \"something kinda male?\", \"queer/she/they\", \"non-binary\",\"nah\", \"all\", \"enby\", \"fluid\", \"genderqueer\", \"androgyne\", \"agender\", \"male leaning androgynous\", \"guy (-ish) ^_^\", \"trans woman\", \"neuter\", \"female (trans)\", \"queer\", \"ostensibly male, unsure what that really means\"]           \r\n",
        "female_str = [\"cis female\", \"f\", \"female\", \"woman\",  \"femake\", \"female \",\"cis-female/femme\", \"female (cis)\", \"femail\"]\r\n",
        "\r\n",
        "for (row, col) in train_df.iterrows():\r\n",
        "\r\n",
        "    if str.lower(col.Gender) in male_str:\r\n",
        "        train_df['Gender'].replace(to_replace=col.Gender, value='male', inplace=True)\r\n",
        "\r\n",
        "    if str.lower(col.Gender) in female_str:\r\n",
        "        train_df['Gender'].replace(to_replace=col.Gender, value='female', inplace=True)\r\n",
        "\r\n",
        "    if str.lower(col.Gender) in trans_str:\r\n",
        "        train_df['Gender'].replace(to_replace=col.Gender, value='trans', inplace=True)\r\n",
        "\r\n",
        "#Get rid of bullshit\r\n",
        "stk_list = ['A little about you', 'p']\r\n",
        "train_df = train_df[~train_df['Gender'].isin(stk_list)]\r\n",
        "\r\n",
        "print(train_df['Gender'].unique())"
      ]
    },
    {
      "cell_type": "code",
      "execution_count": null,
      "outputs": [],
      "metadata": {
        "jupyter": {
          "source_hidden": false,
          "outputs_hidden": false
        },
        "nteract": {
          "transient": {
            "deleting": false
          }
        }
      },
      "source": [
        "#complete missing age with mean\r\n",
        "train_df['Age'].fillna(train_df['Age'].median(), inplace = True)\r\n",
        "\r\n",
        "# Fill with media() values < 18 and > 120\r\n",
        "s = pd.Series(train_df['Age'])\r\n",
        "s[s < 18] = train_df['Age'].median()\r\n",
        "train_df['Age'] = s\r\n",
        "s = pd.Series(train_df['Age'])\r\n",
        "s[s > 120] = train_df['Age'].median()\r\n",
        "train_df['Age'] = s\r\n",
        "\r\n",
        "#Ranges of Age\r\n",
        "train_df['age_range'] = pd.cut(train_df['Age'], [0,20,30,65,100], labels=[\"0-20\", \"21-30\", \"31-65\", \"66-100\"], include_lowest=True)"
      ]
    }
  ]
}